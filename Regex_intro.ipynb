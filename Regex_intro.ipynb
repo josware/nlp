{
  "nbformat": 4,
  "nbformat_minor": 0,
  "metadata": {
    "colab": {
      "name": "Regex-intro.ipynb",
      "provenance": [],
      "authorship_tag": "ABX9TyNWsy3rmfPPGYowrSuOycZq",
      "include_colab_link": true
    },
    "kernelspec": {
      "name": "python3",
      "display_name": "Python 3"
    }
  },
  "cells": [
    {
      "cell_type": "markdown",
      "metadata": {
        "id": "view-in-github",
        "colab_type": "text"
      },
      "source": [
        "<a href=\"https://colab.research.google.com/github/josware/nlp/blob/main/Regex_intro.ipynb\" target=\"_parent\"><img src=\"https://colab.research.google.com/assets/colab-badge.svg\" alt=\"Open In Colab\"/></a>"
      ]
    },
    {
      "cell_type": "markdown",
      "metadata": {
        "id": "yl7XqobHB18Y"
      },
      "source": [
        "#Primeros Pasos con Regular expresions\n",
        "## Sandbox para practicar algo de RegEx\n",
        "Author: Gómez, J.E. Ejercicios de DataCamp"
      ]
    },
    {
      "cell_type": "markdown",
      "metadata": {
        "id": "wd3sjbrGf0oQ"
      },
      "source": [
        "## Intro to RegEx"
      ]
    },
    {
      "cell_type": "code",
      "metadata": {
        "id": "tnHywP6dCTnC"
      },
      "source": [
        "import re\n",
        "my_string = \"Let's write RegEx!  Won't that be fun?  I sure think so.  Can you find 4 sentences?  Or perhaps, all 19 words?\""
      ],
      "execution_count": 1,
      "outputs": []
    },
    {
      "cell_type": "code",
      "metadata": {
        "colab": {
          "base_uri": "https://localhost:8080/"
        },
        "id": "YZQSlpZ-BxQX",
        "outputId": "6b334521-a3f6-4c8f-ab9f-b7f10bd4d6e5"
      },
      "source": [
        "# Write a pattern to match sentence endings: sentence_endings\n",
        "sentence_endings = r\"[.?!]\"\n",
        "\n",
        "# Split my_string on sentence endings and print the result\n",
        "print(re.split(sentence_endings, my_string))\n",
        "\n",
        "# Find all capitalized words in my_string and print the result\n",
        "capitalized_words = r\"[A-Z]\\w+\"\n",
        "print(re.findall(capitalized_words, my_string))\n",
        "\n",
        "# Split my_string on spaces and print the result\n",
        "spaces = r\"\\s+\"\n",
        "print(re.split(spaces, my_string))\n",
        "\n",
        "# Find all digits in my_string and print the result\n",
        "digits = r\"[0-9]+\" #I tend to use this if I want to treat result as numbers\n",
        "#digits = r\"\\d+\" #This if intend is to match unicode digits\n",
        "print(re.findall(digits, my_string))"
      ],
      "execution_count": 2,
      "outputs": [
        {
          "output_type": "stream",
          "text": [
            "[\"Let's write RegEx\", \"  Won't that be fun\", '  I sure think so', '  Can you find 4 sentences', '  Or perhaps, all 19 words', '']\n",
            "['Let', 'RegEx', 'Won', 'Can', 'Or']\n",
            "[\"Let's\", 'write', 'RegEx!', \"Won't\", 'that', 'be', 'fun?', 'I', 'sure', 'think', 'so.', 'Can', 'you', 'find', '4', 'sentences?', 'Or', 'perhaps,', 'all', '19', 'words?']\n",
            "['4', '19']\n"
          ],
          "name": "stdout"
        }
      ]
    },
    {
      "cell_type": "markdown",
      "metadata": {
        "id": "6CmqGa7XfvRT"
      },
      "source": [
        "## Tokenization"
      ]
    },
    {
      "cell_type": "code",
      "metadata": {
        "colab": {
          "base_uri": "https://localhost:8080/"
        },
        "id": "Yqbz0zF5fqJp",
        "outputId": "9712668a-dd3b-4932-81ee-0dd5bc2b7385"
      },
      "source": [
        "import nltk \n",
        "nltk.download('punkt')\n",
        "scene_one = \"SCENE 1: [wind] [clop clop clop] \\nKING ARTHUR: Whoa there!  [clop clop clop] \\nSOLDIER #1: Halt!  Who goes there?\\nARTHUR: It is I, Arthur, son of Uther Pendragon, from the castle of Camelot.  King of the Britons, defeator of the Saxons, sovereign of all England!\\nSOLDIER #1: Pull the other one!\\nARTHUR: I am, ...  and this is my trusty servant Patsy.  We have ridden the length and breadth of the land in search of knights who will join me in my court at Camelot.  I must speak with your lord and master.\\nSOLDIER #1: What?  Ridden on a horse?\\nARTHUR: Yes!\\nSOLDIER #1: You're using coconuts!\\nARTHUR: What?\\nSOLDIER #1: You've got two empty halves of coconut and you're bangin' 'em together.\\nARTHUR: So?  We have ridden since the snows of winter covered this land, through the kingdom of Mercea, through--\\nSOLDIER #1: Where'd you get the coconuts?\\nARTHUR: We found them.\\nSOLDIER #1: Found them?  In Mercea?  The coconut's tropical!\\nARTHUR: What do you mean?\\nSOLDIER #1: Well, this is a temperate zone.\\nARTHUR: The swallow may fly south with the sun or the house martin or the plover may seek warmer climes in winter, yet these are not strangers to our land?\\nSOLDIER #1: Are you suggesting coconuts migrate?\\nARTHUR: Not at all.  They could be carried.\\nSOLDIER #1: What?  A swallow carrying a coconut?\\nARTHUR: It could grip it by the husk!\\nSOLDIER #1: It's not a question of where he grips it!  It's a simple question of weight ratios!  A five ounce bird could not carry a one pound coconut.\\nARTHUR: Well, it doesn't matter.  Will you go and tell your master that Arthur from the Court of Camelot is here.\\nSOLDIER #1: Listen.  In order to maintain air-speed velocity, a swallow needs to beat its wings forty-three times every second, right?\\nARTHUR: Please!\\nSOLDIER #1: Am I right?\\nARTHUR: I'm not interested!\\nSOLDIER #2: It could be carried by an African swallow!\\nSOLDIER #1: Oh, yeah, an African swallow maybe, but not a European swallow.  That's my point.\\nSOLDIER #2: Oh, yeah, I agree with that.\\nARTHUR: Will you ask your master if he wants to join my court at Camelot?!\\nSOLDIER #1: But then of course a-- African swallows are non-migratory.\\nSOLDIER #2: Oh, yeah...\\nSOLDIER #1: So they couldn't bring a coconut back anyway...  [clop clop clop] \\nSOLDIER #2: Wait a minute!  Supposing two swallows carried it together?\\nSOLDIER #1: No, they'd have to have it on a line.\\nSOLDIER #2: Well, simple!  They'd just use a strand of creeper!\\nSOLDIER #1: What, held under the dorsal guiding feathers?\\nSOLDIER #2: Well, why not?\\n\""
      ],
      "execution_count": 5,
      "outputs": [
        {
          "output_type": "stream",
          "text": [
            "[nltk_data] Downloading package punkt to /root/nltk_data...\n",
            "[nltk_data]   Unzipping tokenizers/punkt.zip.\n"
          ],
          "name": "stdout"
        }
      ]
    },
    {
      "cell_type": "code",
      "metadata": {
        "colab": {
          "base_uri": "https://localhost:8080/"
        },
        "id": "rVh3HqPNgfuo",
        "outputId": "adbab55e-6460-476b-fceb-a31fbad93502"
      },
      "source": [
        "# Import necessary modules\n",
        "from nltk.tokenize import sent_tokenize\n",
        "from nltk.tokenize import word_tokenize\n",
        "\n",
        "# Split scene_one into sentences: sentences\n",
        "sentences = sent_tokenize(scene_one)\n",
        "\n",
        "# Use word_tokenize to tokenize the fourth sentence: tokenized_sent\n",
        "tokenized_sent = word_tokenize(sentences[3])\n",
        "\n",
        "# Make a set of unique tokens in the entire scene: unique_tokens\n",
        "unique_tokens = set(word_tokenize(scene_one))\n",
        "\n",
        "# Print the unique tokens result\n",
        "print(unique_tokens)"
      ],
      "execution_count": 7,
      "outputs": [
        {
          "output_type": "stream",
          "text": [
            "{'sovereign', 'Found', 'pound', '[', 'a', \"'\", 'bird', 'not', 'wants', 'there', 'point', 'do', 'martin', 'use', 'does', 'Patsy', 'they', 'Whoa', 'Ridden', 'here', 'trusty', 'Arthur', 'where', 'and', 'husk', 'You', 'A', 'are', 'sun', 'feathers', 'from', 'go', 'of', 'the', 'snows', 'simple', \"'m\", 'Oh', 'in', 'temperate', 'matter', 'an', \"'ve\", 'bangin', 'who', 'get', 'tropical', 'he', 'suggesting', 'Will', 'Am', 'why', 'migrate', 'agree', 'your', 'Pull', 'interested', 'maybe', 'weight', 'order', 'every', 'In', 'So', 'grip', 'Wait', 'may', 'me', 'ask', 'beat', 'clop', 'seek', 'but', 'together', 'climes', 'with', 'covered', 'question', 'will', 'then', 'strand', 'castle', 'horse', 'Where', 'defeator', 'yet', 'tell', 'empty', 'to', 'one', 'ARTHUR', 'south', 'maintain', 'fly', ',', 'all', 'carry', 'We', 'lord', 'five', 'African', 'wings', 'coconut', 'these', 'What', 'creeper', 'KING', 'is', 'SOLDIER', 'winter', 'Not', 'am', 'times', 'zone', '#', 'line', 'Yes', '?', 'held', 'The', 'It', 'must', 'search', 'anyway', '--', 'swallows', 'under', 'speak', 'since', 'Please', 'be', 'our', 'just', 'SCENE', 'plover', 'coconuts', 'bring', 'breadth', '...', 'length', \"'em\", 'Listen', 'got', 'right', \"'s\", '.', 'through', 'kingdom', 'Uther', 'at', 'But', 'son', 'Pendragon', 'or', 'using', 'goes', 'King', 'swallow', 'Halt', 'found', 'Who', 'strangers', 'it', 'air-speed', 'needs', 'court', '!', 'forty-three', 'that', 'Are', 'join', 'Court', 'non-migratory', 'on', 'Saxons', 'two', \"n't\", 'carried', 'yeah', 'minute', \"'d\", 'its', 'I', 'That', '2', 'European', 'course', 'wind', 'by', 'knights', 'this', 'if', 'my', 'velocity', 'halves', 'carrying', 'other', 'ratios', 'back', 'grips', 'them', 'second', 'No', 'Camelot', 'dorsal', 'They', 'master', 'you', 'ridden', ':', \"'re\", 'Well', 'could', 'Supposing', 'guiding', 'warmer', 'land', ']', 'mean', 'Britons', '1', 'England', 'Mercea', 'servant', 'house', 'have', 'ounce'}\n"
          ],
          "name": "stdout"
        }
      ]
    },
    {
      "cell_type": "code",
      "metadata": {
        "colab": {
          "base_uri": "https://localhost:8080/"
        },
        "id": "jlKGxI_ZhO0R",
        "outputId": "71319454-11a8-4aee-fc92-24523789b63f"
      },
      "source": [
        "# Search for the first occurrence of \"coconuts\" in scene_one: match\n",
        "match = re.search(\"coconuts\", scene_one)\n",
        "\n",
        "# Print the start and end indexes of match\n",
        "print(match.start(), match.end())"
      ],
      "execution_count": 8,
      "outputs": [
        {
          "output_type": "stream",
          "text": [
            "580 588\n"
          ],
          "name": "stdout"
        }
      ]
    },
    {
      "cell_type": "code",
      "metadata": {
        "colab": {
          "base_uri": "https://localhost:8080/"
        },
        "id": "puiIpu0ohQQA",
        "outputId": "89e7dd55-bbb2-421a-fd14-9414a879f8d0"
      },
      "source": [
        "# Write a regular expression to search for anything in square brackets: pattern1\n",
        "pattern1 = r\"\\[.*\\]\"\n",
        "\n",
        "# Use re.search to find the first text in square brackets\n",
        "print(re.search(pattern1, scene_one))"
      ],
      "execution_count": 12,
      "outputs": [
        {
          "output_type": "stream",
          "text": [
            "<_sre.SRE_Match object; span=(9, 32), match='[wind] [clop clop clop]'>\n"
          ],
          "name": "stdout"
        }
      ]
    },
    {
      "cell_type": "code",
      "metadata": {
        "colab": {
          "base_uri": "https://localhost:8080/"
        },
        "id": "-SnbpqcFiLB0",
        "outputId": "59337160-8393-463a-8012-0a791536c999"
      },
      "source": [
        "# Find the script notation at the beginning of the fourth sentence and print it\n",
        "pattern2 = r\"[\\w\\s]+:\"\n",
        "print(re.match(pattern2, sentences[3]))"
      ],
      "execution_count": 13,
      "outputs": [
        {
          "output_type": "stream",
          "text": [
            "<_sre.SRE_Match object; span=(0, 7), match='ARTHUR:'>\n"
          ],
          "name": "stdout"
        }
      ]
    }
  ]
}